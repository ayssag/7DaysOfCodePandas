{
  "cells": [
    {
      "cell_type": "markdown",
      "metadata": {
        "id": "view-in-github",
        "colab_type": "text"
      },
      "source": [
        "<a href=\"https://colab.research.google.com/github/ayssag/7DaysOfCodePandas/blob/main/_7DaysOfCode.ipynb\" target=\"_parent\"><img src=\"https://colab.research.google.com/assets/colab-badge.svg\" alt=\"Open In Colab\"/></a>"
      ]
    },
    {
      "cell_type": "markdown",
      "metadata": {
        "id": "f80nZ70akTdT"
      },
      "source": [
        "# Importando dados"
      ]
    },
    {
      "cell_type": "code",
      "execution_count": 1,
      "metadata": {
        "id": "6jyFIH3fRI-l"
      },
      "outputs": [],
      "source": [
        "%%capture\n",
        "!pip install pandas"
      ]
    },
    {
      "cell_type": "code",
      "execution_count": 2,
      "metadata": {
        "colab": {
          "base_uri": "https://localhost:8080/"
        },
        "id": "CtxkmJ65bemV",
        "outputId": "aab2af48-1cad-4233-b7eb-6fde1192f149"
      },
      "outputs": [
        {
          "output_type": "stream",
          "name": "stdout",
          "text": [
            "Cloning into '7_Days_of_Code_Alura-Python-Pandas'...\n",
            "remote: Enumerating objects: 282, done.\u001b[K\n",
            "remote: Counting objects: 100% (62/62), done.\u001b[K\n",
            "remote: Compressing objects: 100% (62/62), done.\u001b[K\n",
            "remote: Total 282 (delta 29), reused 0 (delta 0), pack-reused 220\u001b[K\n",
            "Receiving objects: 100% (282/282), 82.88 MiB | 8.64 MiB/s, done.\n",
            "Resolving deltas: 100% (102/102), done.\n",
            "Updating files: 100% (33/33), done.\n"
          ]
        }
      ],
      "source": [
        "repo = 'https://github.com/FranciscoFoz/7_Days_of_Code_Alura-Python-Pandas.git'\n",
        "!git clone {repo}"
      ]
    },
    {
      "cell_type": "code",
      "source": [
        "# Cores para os gráficos\n",
        "GREEN = '#a0de59'\n",
        "DARKERPURPLE = '#5f2a62'\n",
        "PURPLE = '#a976c3'\n",
        "GREEN = '#a0de59'\n",
        "DARKERGREEN = '#466b5a'\n",
        "YELLOW = '#f5c024'\n",
        "MIDGREEN = '#59de96'\n",
        "ORANGE = '#f57e24'\n",
        "MIDPURPLE = '#2e2a62'"
      ],
      "metadata": {
        "id": "pBjb7_rW_o88"
      },
      "execution_count": 3,
      "outputs": []
    },
    {
      "cell_type": "code",
      "execution_count": 4,
      "metadata": {
        "id": "LXTrGfgreLzx"
      },
      "outputs": [],
      "source": [
        "import os\n",
        "import pandas as pd\n",
        "import matplotlib.pyplot as plt\n",
        "import matplotlib.ticker as ticker\n",
        "\n",
        "path = '7_Days_of_Code_Alura-Python-Pandas/Dia_1-Importando_dados/Datasets'\n",
        "\n",
        "files = os.listdir(f'{path}/dados_emprestimos')\n",
        "emprestimos = pd.DataFrame()\n",
        "\n",
        "for file in files:\n",
        "  add_emprestimos = pd.read_csv(f'{path}/dados_emprestimos/{file}')\n",
        "  emprestimos = pd.concat([emprestimos, add_emprestimos], ignore_index=True)\n"
      ]
    },
    {
      "cell_type": "code",
      "execution_count": 5,
      "metadata": {
        "id": "CCm16FmFikdY"
      },
      "outputs": [],
      "source": [
        "files = os.listdir(path)\n",
        "exemplares =  pd.read_parquet(f'{path}/dados_exemplares.parquet')"
      ]
    },
    {
      "cell_type": "code",
      "execution_count": 6,
      "metadata": {
        "id": "oJWwTtQ4lUaC"
      },
      "outputs": [],
      "source": [
        "dataset = emprestimos.merge(exemplares, on='codigo_barras', how='left')"
      ]
    },
    {
      "cell_type": "markdown",
      "metadata": {
        "id": "9Uyr99BroDLD"
      },
      "source": [
        "# Limpeza de dados"
      ]
    },
    {
      "cell_type": "code",
      "execution_count": 7,
      "metadata": {
        "id": "cjD8jU6upzx-"
      },
      "outputs": [],
      "source": [
        "dataset = dataset.drop_duplicates()"
      ]
    },
    {
      "cell_type": "code",
      "execution_count": 8,
      "metadata": {
        "id": "k9Z-GDsDvdRQ"
      },
      "outputs": [],
      "source": [
        "dataset = dataset.drop(columns='registro_sistema')"
      ]
    },
    {
      "cell_type": "code",
      "execution_count": 9,
      "metadata": {
        "id": "2gjDkQw-i_ui"
      },
      "outputs": [],
      "source": [
        "columns_with_nan = dataset.isnull().any()\n",
        "# data_renovacao, data_devolucao, matricula_ou_siape, id_exemplar, colecao, biblioteca, status_material, localizacao, registro_sistema\n",
        "\n",
        "for col, _ in columns_with_nan.items():\n",
        "  if col:\n",
        "    dataset[col] = dataset[col].replace(float('nan'), 'unknown')\n"
      ]
    },
    {
      "cell_type": "code",
      "execution_count": 10,
      "metadata": {
        "id": "v0nhAJOwuw0O"
      },
      "outputs": [],
      "source": [
        "def convert_to_string(value):\n",
        "  return str(value)\n",
        "\n",
        "dataset['matricula_ou_siape'] = list(map(convert_to_string, dataset['matricula_ou_siape']))"
      ]
    },
    {
      "cell_type": "code",
      "execution_count": 11,
      "metadata": {
        "id": "DdKIFcjF5p99"
      },
      "outputs": [],
      "source": [
        "columns_with_na = dataset.isna().any()\n",
        "# localizacao\n",
        "for col, _ in columns_with_na.items():\n",
        "  if col:\n",
        "    dataset[col] = dataset[col].replace(pd.NA, 'Não consta')\n"
      ]
    },
    {
      "cell_type": "code",
      "execution_count": 12,
      "metadata": {
        "id": "SmMBTvyPzBmw"
      },
      "outputs": [],
      "source": [
        "def convert_cdu(value):\n",
        "  if value != 'unknown':\n",
        "    match value:\n",
        "      case value if float(value) >= 0 and float(value) <= 99:\n",
        "        return 'Generalidades. Ciência e conhecimento.'\n",
        "      case value if float(value) >= 100 and float(value) <= 199:\n",
        "        return 'Filosofia e psicologia.'\n",
        "      case value if float(value) >= 200 and float(value) <= 299:\n",
        "        return 'Religião.'\n",
        "      case value if float(value) >= 300 and float(value) <= 399:\n",
        "        return 'Ciências sociais.'\n",
        "      case value if float(value) >= 400 and float(value) <= 499:\n",
        "        return 'Classe vaga. Provisoriamente não ocupada.'\n",
        "      case value if float(value) >= 500 and float(value) <= 599:\n",
        "        return 'Matemática e ciências naturais.'\n",
        "      case value if float(value) >= 600 and float(value) <= 699:\n",
        "        return 'Ciências aplicadas.'\n",
        "      case value if float(value) >= 700 and float(value) <= 799:\n",
        "        return 'Belas artes.'\n",
        "      case value if float(value) >= 800 and float(value) <= 899:\n",
        "        return 'Linguagem. Língua. Linguística.'\n",
        "      case value if float(value) >= 900 and float(value) <= 999:\n",
        "        return 'Geografia. Biografia. História.'\n",
        "  else:\n",
        "    return value\n",
        "\n",
        "dataset['localizacao_cd'] = list(map(convert_cdu, dataset['localizacao']))"
      ]
    },
    {
      "cell_type": "code",
      "source": [
        "dataset['data_emprestimo'] = pd.to_datetime(dataset['data_emprestimo'])"
      ],
      "metadata": {
        "id": "l7UcEEl0UuZg"
      },
      "execution_count": 13,
      "outputs": []
    },
    {
      "cell_type": "markdown",
      "metadata": {
        "id": "YkssJynSkV9C"
      },
      "source": [
        "# Análise exploratória de dados e DateTime"
      ]
    },
    {
      "cell_type": "markdown",
      "source": [
        "## Quantidade de exemplares emprestados por ano"
      ],
      "metadata": {
        "id": "U1TRmypNcQUi"
      }
    },
    {
      "cell_type": "code",
      "source": [
        "exemplares_por_ano = dataset[['id_exemplar', 'data_emprestimo']]"
      ],
      "metadata": {
        "id": "eiBUN3YxSa_L"
      },
      "execution_count": 14,
      "outputs": []
    },
    {
      "cell_type": "code",
      "source": [
        "exemplares_por_ano = exemplares_por_ano[exemplares_por_ano['data_emprestimo'] != 'unknown']\n",
        "exemplares_por_ano = exemplares_por_ano[exemplares_por_ano['id_exemplar'] != 'unknown']"
      ],
      "metadata": {
        "id": "MsXExcQJTFqm"
      },
      "execution_count": 15,
      "outputs": []
    },
    {
      "cell_type": "code",
      "source": [
        "exemplares_por_ano['ano_emprestimo'] = exemplares_por_ano['data_emprestimo'].dt.year\n",
        "exemplares_por_ano = exemplares_por_ano.drop(columns=['data_emprestimo'])\n",
        "exemplares_por_ano = exemplares_por_ano.groupby('ano_emprestimo').describe()"
      ],
      "metadata": {
        "id": "fAYR-tQ5U-9m"
      },
      "execution_count": 16,
      "outputs": []
    },
    {
      "cell_type": "code",
      "source": [
        "exemplares_por_ano = exemplares_por_ano['id_exemplar']['count']"
      ],
      "metadata": {
        "id": "ndy-Kx73Vxay"
      },
      "execution_count": 17,
      "outputs": []
    },
    {
      "cell_type": "code",
      "source": [
        "exemplares_por_ano = exemplares_por_ano.to_frame()"
      ],
      "metadata": {
        "id": "ZYcWm5DaaO3m"
      },
      "execution_count": 18,
      "outputs": []
    },
    {
      "cell_type": "code",
      "source": [
        "exemplares_por_ano.columns = ['quantidade_exemplares']"
      ],
      "metadata": {
        "id": "FlUm96XNam5c"
      },
      "execution_count": 19,
      "outputs": []
    },
    {
      "cell_type": "code",
      "source": [
        "plt.plot(exemplares_por_ano, color=DARKERGREEN)\n",
        "plt.title('Quantidade de exemplares emprestados por ano', fontweight='bold', color=DARKERPURPLE)\n",
        "plt.xlabel('Ano')\n",
        "plt.ylabel('Quantidade de exemplares emprestados')\n",
        "plt.xticks(exemplares_por_ano.index, rotation=30, color=PURPLE, fontsize='small', fontweight='bold')\n",
        "plt.yticks(color=PURPLE, fontsize='small', fontweight='bold')\n",
        "plt.grid(visible=True, color=GREEN)\n",
        "plt.show()"
      ],
      "metadata": {
        "colab": {
          "base_uri": "https://localhost:8080/",
          "height": 485
        },
        "id": "jdDrJuAXYnxY",
        "outputId": "a7f26091-797b-4b9a-8056-0e3f39d7efb9"
      },
      "execution_count": 20,
      "outputs": [
        {
          "output_type": "display_data",
          "data": {
            "text/plain": [
              "<Figure size 640x480 with 1 Axes>"
            ],
            "image/png": "[encoded data removed]"
          },
          "metadata": {}
        }
      ]
    },
    {
      "cell_type": "markdown",
      "source": [
        "Podemos observar que a quantidade de exemplares emprestados por ano diminui entre os anos de 2010 e 2020. A tendência é que continue a diminuir ao longo dos próximos anos."
      ],
      "metadata": {
        "id": "5is1MqfAcVBl"
      }
    },
    {
      "cell_type": "markdown",
      "source": [
        "## Quantidade de exemplares emprestador por mês"
      ],
      "metadata": {
        "id": "lwaj_0dlc1e6"
      }
    },
    {
      "cell_type": "code",
      "source": [
        "exemplares_por_mes = dataset[['id_exemplar', 'data_emprestimo']]"
      ],
      "metadata": {
        "id": "cI5uYSJkc7CL"
      },
      "execution_count": 21,
      "outputs": []
    },
    {
      "cell_type": "code",
      "source": [
        "exemplares_por_mes = exemplares_por_mes[exemplares_por_mes['data_emprestimo'] != 'unknown']\n",
        "exemplares_por_mes = exemplares_por_mes[exemplares_por_mes['id_exemplar'] != 'unknown']"
      ],
      "metadata": {
        "id": "x1FYX6zsdA4K"
      },
      "execution_count": 22,
      "outputs": []
    },
    {
      "cell_type": "code",
      "source": [
        "exemplares_por_mes['mes_emprestimo'] = exemplares_por_mes['data_emprestimo'].dt.month\n",
        "exemplares_por_mes = exemplares_por_mes.drop(columns=['data_emprestimo'])\n",
        "exemplares_por_mes = exemplares_por_mes.groupby('mes_emprestimo').describe()"
      ],
      "metadata": {
        "id": "rdBG3qYtdDVQ",
        "colab": {
          "base_uri": "https://localhost:8080/"
        },
        "outputId": "8cf90406-5aea-4a86-99d8-5d7d1b1cbdea"
      },
      "execution_count": 23,
      "outputs": [
        {
          "output_type": "stream",
          "name": "stderr",
          "text": [
            "<ipython-input-23-3ae6f540bce6>:1: SettingWithCopyWarning: \n",
            "A value is trying to be set on a copy of a slice from a DataFrame.\n",
            "Try using .loc[row_indexer,col_indexer] = value instead\n",
            "\n",
            "See the caveats in the documentation: https://pandas.pydata.org/pandas-docs/stable/user_guide/indexing.html#returning-a-view-versus-a-copy\n",
            "  exemplares_por_mes['mes_emprestimo'] = exemplares_por_mes['data_emprestimo'].dt.month\n"
          ]
        }
      ]
    },
    {
      "cell_type": "code",
      "source": [
        "exemplares_por_mes = exemplares_por_mes['id_exemplar']['count']\n",
        "exemplares_por_mes = exemplares_por_mes.to_frame()"
      ],
      "metadata": {
        "id": "04N5ZOGndKzB"
      },
      "execution_count": 24,
      "outputs": []
    },
    {
      "cell_type": "code",
      "source": [
        "exemplares_por_mes.columns = ['quantidade_exemplares']"
      ],
      "metadata": {
        "id": "ug0X92ELdObT"
      },
      "execution_count": 25,
      "outputs": []
    },
    {
      "cell_type": "code",
      "source": [
        "def num_to_mes(num):\n",
        "  match num:\n",
        "    case 1: return 'Janeiro'\n",
        "    case 2: return 'Fevereiro'\n",
        "    case 3: return 'Março'\n",
        "    case 4: return 'Abril'\n",
        "    case 5: return 'Maio'\n",
        "    case 6: return 'Junho'\n",
        "    case 7: return 'Julho'\n",
        "    case 8: return 'Agosto'\n",
        "    case 9: return 'Setembro'\n",
        "    case 10: return 'Outubro'\n",
        "    case 11: return 'Novembro'\n",
        "    case 12: return 'Dezembro'"
      ],
      "metadata": {
        "id": "-_oU4mWidnRq"
      },
      "execution_count": 26,
      "outputs": []
    },
    {
      "cell_type": "code",
      "source": [
        "exemplares_por_mes.index = list(map(num_to_mes, exemplares_por_mes.index))"
      ],
      "metadata": {
        "id": "mlcTeT03da31"
      },
      "execution_count": 27,
      "outputs": []
    },
    {
      "cell_type": "code",
      "source": [
        "fig.get_figheight()"
      ],
      "metadata": {
        "colab": {
          "base_uri": "https://localhost:8080/"
        },
        "id": "YpfgWuZ_skNP",
        "outputId": "6618b8af-7d10-489e-a446-8c0071ab5962"
      },
      "execution_count": 137,
      "outputs": [
        {
          "output_type": "execute_result",
          "data": {
            "text/plain": [
              "4.8"
            ]
          },
          "metadata": {},
          "execution_count": 137
        }
      ]
    },
    {
      "cell_type": "code",
      "source": [
        "fig, ax = plt.subplots(figsize=(10,8))\n",
        "\n",
        "ax.plot(exemplares_por_mes, color=PURPLE, linewidth=2)\n",
        "\n",
        "plt.suptitle('Quantidade de exemplares emprestados por mês', fontsize='x-large', fontweight='bold', color=DARKERPURPLE, ha='center')\n",
        "plt.title('Entre 2010 e 2020', style='italic', fontsize='medium')\n",
        "\n",
        "plt.xlabel('Mês', fontsize='large', fontweight='bold', color=DARKERPURPLE)\n",
        "plt.ylabel('Quantidade de exemplares emprestados', fontsize='large', fontweight='bold', color=DARKERPURPLE)\n",
        "\n",
        "plt.xticks(exemplares_por_mes.index, rotation=45, color=DARKERGREEN, fontsize='medium', fontweight='bold')\n",
        "plt.yticks(color=DARKERGREEN, fontsize='medium', fontweight='bold')\n",
        "plt.grid(visible=True, color=GREEN)\n",
        "plt.show()"
      ],
      "metadata": {
        "colab": {
          "base_uri": "https://localhost:8080/",
          "height": 833
        },
        "id": "Yaq3jDx3dS2G",
        "outputId": "90335a65-b489-4997-c074-4bffde864e3c"
      },
      "execution_count": 150,
      "outputs": [
        {
          "output_type": "display_data",
          "data": {
            "text/plain": [
              "<Figure size 1000x800 with 1 Axes>"
            ],
            "image/png": "[encoded data removed]"
          },
          "metadata": {}
        }
      ]
    },
    {
      "cell_type": "markdown",
      "source": [
        "Podemos observar que o mês com maior número de exemplares emprestados entre 2010 e 2020 foi Março. Em comparação, o mês de Janeiro é o mês com menor demanda durante o período. Para alocar as férias dos funcionários de acordo com a demanda, este seria o mês ideal. O mês de dezembro tem a segunda menor quantidade de exemplares emprestados, sendo também um bom candidato para férias."
      ],
      "metadata": {
        "id": "pXJemTxNfRs3"
      }
    },
    {
      "cell_type": "markdown",
      "source": [
        "## Empréstimos por hora ao longo de um dia inteiro"
      ],
      "metadata": {
        "id": "e8ZzWjOehjgE"
      }
    },
    {
      "cell_type": "code",
      "source": [
        "emprestimos_por_hora = dataset[['id_emprestimo', 'data_emprestimo']]"
      ],
      "metadata": {
        "id": "tbIX4bo7xxzW"
      },
      "execution_count": 29,
      "outputs": []
    },
    {
      "cell_type": "code",
      "source": [
        "emprestimos_por_hora = emprestimos_por_hora[emprestimos_por_hora['data_emprestimo'] != 'unknown']"
      ],
      "metadata": {
        "id": "aSVUn-_Zxz9p"
      },
      "execution_count": 30,
      "outputs": []
    },
    {
      "cell_type": "code",
      "source": [
        "emprestimos_por_hora['hora_emprestimo'] = emprestimos_por_hora['data_emprestimo'].dt.hour\n",
        "emprestimos_por_hora = emprestimos_por_hora.drop(columns=['data_emprestimo'])\n",
        "emprestimos_por_hora = emprestimos_por_hora.groupby('hora_emprestimo').describe()"
      ],
      "metadata": {
        "id": "A-qaHBzqynM0"
      },
      "execution_count": 31,
      "outputs": []
    },
    {
      "cell_type": "code",
      "source": [
        "emprestimos_por_hora = emprestimos_por_hora['id_emprestimo']['count']\n",
        "emprestimos_por_hora = emprestimos_por_hora.to_frame()"
      ],
      "metadata": {
        "id": "uXGd6TD3x63i"
      },
      "execution_count": 32,
      "outputs": []
    },
    {
      "cell_type": "code",
      "source": [
        "emprestimos_por_hora.columns = ['quantidade_emprestimos']"
      ],
      "metadata": {
        "id": "QnhbteGizQvI"
      },
      "execution_count": 33,
      "outputs": []
    },
    {
      "cell_type": "code",
      "source": [
        "\n",
        "colors = [DARKERPURPLE, PURPLE, GREEN, DARKERGREEN, YELLOW]\n",
        "\n",
        "fig, ax = plt.subplots(figsize=(10,8))\n",
        "\n",
        "ax.bar(emprestimos_por_hora.index, emprestimos_por_hora['quantidade_emprestimos'],align='edge', color=colors, width=1)\n",
        "\n",
        "plt.suptitle('Quantidade de empréstimos por hora', fontsize='x-large', fontweight='bold', color=DARKERPURPLE, ha='center')\n",
        "plt.title('Entre 2010 e 2020', style='italic', fontsize='medium', loc='center')\n",
        "\n",
        "plt.xlabel('Hora do dia', color=DARKERPURPLE, fontsize='large', fontweight='bold')\n",
        "plt.ylabel('Quantidade de empréstimos', color=DARKERPURPLE, fontsize='large', fontweight='bold')\n",
        "\n",
        "plt.xticks(emprestimos_por_hora.index, fontsize='medium', color=DARKERGREEN, fontweight='bold')\n",
        "plt.yticks(fontsize='medium', color=DARKERGREEN, fontweight='bold')\n",
        "\n",
        "\n",
        "plt.show()"
      ],
      "metadata": {
        "colab": {
          "base_uri": "https://localhost:8080/",
          "height": 780
        },
        "id": "yWtW_Q2_zbpm",
        "outputId": "7f4ccc0c-61eb-42cb-e5a7-9abdfcbf7008"
      },
      "execution_count": 144,
      "outputs": [
        {
          "output_type": "display_data",
          "data": {
            "text/plain": [
              "<Figure size 1000x800 with 1 Axes>"
            ],
            "image/png": "[encoded data removed]"
          },
          "metadata": {}
        }
      ]
    },
    {
      "cell_type": "markdown",
      "source": [
        "Podemos observar que os horários com maior atividade de atendimento ao usuário (quantidade de empréstimos) é às 10h e às 16h. Para alocar atividades que não envolvem atender clientes, é adequado escolher horários com pouca quantidade de empréstimos, como às 7h da manhã (início do expediente) ou 19h ou 21h da noite (fim do expediente)."
      ],
      "metadata": {
        "id": "iksT7JrB79rE"
      }
    },
    {
      "cell_type": "markdown",
      "source": [
        "## Análise exploratória de dados e Variáveis categóricas"
      ],
      "metadata": {
        "id": "3A7V1cZJBWsh"
      }
    },
    {
      "cell_type": "code",
      "source": [
        "def analise_variavel(variavel):\n",
        "  emprestimos_por_variavel = dataset[['id_emprestimo', variavel]]\n",
        "  emprestimos_por_variavel = emprestimos_por_variavel.groupby(variavel).describe()\n",
        "\n",
        "  emprestimos_por_variavel = emprestimos_por_variavel['id_emprestimo']['count'].to_frame()\n",
        "  emprestimos_por_variavel.columns = ['quantidade_emprestimos']\n",
        "  emprestimos_por_variavel['quantidade_emprestimos'] = list(map(int,emprestimos_por_variavel['quantidade_emprestimos']))\n",
        "\n",
        "  emprestimos_por_variavel = emprestimos_por_variavel.sort_values(by='quantidade_emprestimos', ascending=False)\n",
        "  emprestimos_por_variavel['percentual'] = round(100*(emprestimos_por_variavel['quantidade_emprestimos']/emprestimos_por_variavel['quantidade_emprestimos'].sum()), 2)\n",
        "\n",
        "  print('='*90)\n",
        "  print(f'Tabela para {variavel}')\n",
        "  print('='*90)\n",
        "  print(emprestimos_por_variavel)\n",
        "\n",
        "  # print(f'Visualização de {variavel}')\n",
        "  # pizza(emprestimos_por_variavel, variavel)\n"
      ],
      "metadata": {
        "id": "oV3up6xBamf7"
      },
      "execution_count": 36,
      "outputs": []
    },
    {
      "cell_type": "code",
      "source": [
        "variaveis = ['tipo_vinculo_usuario', 'localizacao_cd', 'status_material', 'colecao', 'biblioteca']"
      ],
      "metadata": {
        "id": "ffGmHtS9BfhG"
      },
      "execution_count": 37,
      "outputs": []
    },
    {
      "cell_type": "code",
      "source": [
        "for variavel in variaveis:\n",
        "  analise_variavel(variavel)"
      ],
      "metadata": {
        "colab": {
          "base_uri": "https://localhost:8080/"
        },
        "id": "N0bvNDLadCy5",
        "outputId": "0657a9bd-be3c-4e0d-efaa-a31a7c80690d"
      },
      "execution_count": 38,
      "outputs": [
        {
          "output_type": "stream",
          "name": "stdout",
          "text": [
            "==========================================================================================\n",
            "Tabela para tipo_vinculo_usuario\n",
            "==========================================================================================\n",
            "                                 quantidade_emprestimos  percentual\n",
            "tipo_vinculo_usuario                                               \n",
            "ALUNO DE GRADUAÇÃO                              1771903       78.34\n",
            "ALUNO DE PÓS-GRADUAÇÃO                           320074       14.15\n",
            "DOCENTE                                           78285        3.46\n",
            "SERVIDOR TÉCNICO-ADMINISTRATIVO                   34178        1.51\n",
            "ALUNO MÉDIO/TÉCNICO                               29986        1.33\n",
            "DOCENTE EXTERNO                                   24606        1.09\n",
            "USUÁRIO EXTERNO                                    2741        0.12\n",
            "OUTROS                                                6        0.00\n",
            "==========================================================================================\n",
            "Tabela para localizacao_cd\n",
            "==========================================================================================\n",
            "                                        quantidade_emprestimos  percentual\n",
            "localizacao_cd                                                            \n",
            "Ciências aplicadas.                                    1425473       63.02\n",
            "Ciências sociais.                                       369536       16.34\n",
            "unknown                                                 189257        8.37\n",
            "Matemática e ciências naturais.                          68744        3.04\n",
            "Generalidades. Ciência e conhecimento.                   62521        2.76\n",
            "Religião.                                                62295        2.75\n",
            "Filosofia e psicologia.                                  60563        2.68\n",
            "Geografia. Biografia. História.                           7989        0.35\n",
            "Belas artes.                                              7911        0.35\n",
            "Linguagem. Língua. Linguística.                           7490        0.33\n",
            "==========================================================================================\n",
            "Tabela para status_material\n",
            "==========================================================================================\n",
            "                 quantidade_emprestimos  percentual\n",
            "status_material                                    \n",
            "REGULAR                         2000723       88.46\n",
            "unknown                          189257        8.37\n",
            "ESPECIAL                          69763        3.08\n",
            "NÃO CIRCULA                        2036        0.09\n",
            "==========================================================================================\n",
            "Tabela para colecao\n",
            "==========================================================================================\n",
            "                                       quantidade_emprestimos  percentual\n",
            "colecao                                                                  \n",
            "Acervo Circulante                                     2053120       90.77\n",
            "unknown                                                189257        8.37\n",
            "Multimeios                                               7954        0.35\n",
            "Monografias                                              4021        0.18\n",
            "Dissertações                                             2406        0.11\n",
            "Obras de Referência                                      1954        0.09\n",
            "Publicações de Autores do RN                              866        0.04\n",
            "Publicações da UFRN                                       764        0.03\n",
            "Teses                                                     714        0.03\n",
            "Folhetos                                                  271        0.01\n",
            "Necessidades Educacionais Específicas                     130        0.01\n",
            "Trabalho Acadêmico                                        115        0.01\n",
            "Eventos                                                   101        0.00\n",
            "Coleção Mossoroense                                        44        0.00\n",
            "Coleção Zila Mamede                                        30        0.00\n",
            "Literatura de Cordel                                       24        0.00\n",
            "Obras Raras                                                 8        0.00\n",
            "==========================================================================================\n",
            "Tabela para biblioteca\n",
            "==========================================================================================\n",
            "                                                    quantidade_emprestimos  \\\n",
            "biblioteca                                                                   \n",
            "Biblioteca Central Zila Mamede                                     1426122   \n",
            "unknown                                                             189257   \n",
            "Biblioteca Setorial do Centro Ciências da Saúde...                  118614   \n",
            "Biblioteca Setorial da Faculdade de Ciências da...                   77609   \n",
            "Biblioteca Setorial Prof. Alberto Moreira Campo...                   66447   \n",
            "Biblioteca Setorial Profª. Maria Lúcia da Costa...                   61478   \n",
            "Biblioteca Setorial Bertha Cruz Enders - ­Escol...                   46040   \n",
            "Biblioteca Setorial do Centro de Ciências Human...                   40744   \n",
            "Biblioteca Setorial Dr. Paulo Bezerra - EMCM/RN...                   32097   \n",
            "Biblioteca Setorial Profª. Maria José Mamede Ga...                   29089   \n",
            "Biblioteca Setorial Prof. Rodolfo Helinski - Es...                   27219   \n",
            "Biblioteca Setorial Prof. Francisco Gurgel De A...                   26923   \n",
            "Biblioteca Setorial do Núcleo de Educação da In...                   23656   \n",
            "Biblioteca Setorial Prof. Ronaldo Xavier de Arr...                   22749   \n",
            "Biblioteca Setorial Pe. Jaime Diniz - Escola de...                   21476   \n",
            "Biblioteca Setorial do Departamento de Artes - ...                   17099   \n",
            "Biblioteca Setorial Prof. Leopoldo Nelson - ­Ce...                   12900   \n",
            "Biblioteca Setorial do Centro Ciências Sociais ...                   10533   \n",
            "Biblioteca Setorial Prof. Dr. Marcelo Bezerra d...                    5057   \n",
            "Biblioteca Setorial Prof. Horácio Nicolas Solim...                    4098   \n",
            "Biblioteca Setorial Moacyr de Góes - CE                               1036   \n",
            "Biblioteca Setorial Árvore do Conhecimento - In...                     919   \n",
            "Biblioteca Setorial do Núcleo de Ensino Superio...                     617   \n",
            "\n",
            "                                                    percentual  \n",
            "biblioteca                                                      \n",
            "Biblioteca Central Zila Mamede                           63.05  \n",
            "unknown                                                   8.37  \n",
            "Biblioteca Setorial do Centro Ciências da Saúde...        5.24  \n",
            "Biblioteca Setorial da Faculdade de Ciências da...        3.43  \n",
            "Biblioteca Setorial Prof. Alberto Moreira Campo...        2.94  \n",
            "Biblioteca Setorial Profª. Maria Lúcia da Costa...        2.72  \n",
            "Biblioteca Setorial Bertha Cruz Enders - ­Escol...        2.04  \n",
            "Biblioteca Setorial do Centro de Ciências Human...        1.80  \n",
            "Biblioteca Setorial Dr. Paulo Bezerra - EMCM/RN...        1.42  \n",
            "Biblioteca Setorial Profª. Maria José Mamede Ga...        1.29  \n",
            "Biblioteca Setorial Prof. Rodolfo Helinski - Es...        1.20  \n",
            "Biblioteca Setorial Prof. Francisco Gurgel De A...        1.19  \n",
            "Biblioteca Setorial do Núcleo de Educação da In...        1.05  \n",
            "Biblioteca Setorial Prof. Ronaldo Xavier de Arr...        1.01  \n",
            "Biblioteca Setorial Pe. Jaime Diniz - Escola de...        0.95  \n",
            "Biblioteca Setorial do Departamento de Artes - ...        0.76  \n",
            "Biblioteca Setorial Prof. Leopoldo Nelson - ­Ce...        0.57  \n",
            "Biblioteca Setorial do Centro Ciências Sociais ...        0.47  \n",
            "Biblioteca Setorial Prof. Dr. Marcelo Bezerra d...        0.22  \n",
            "Biblioteca Setorial Prof. Horácio Nicolas Solim...        0.18  \n",
            "Biblioteca Setorial Moacyr de Góes - CE                   0.05  \n",
            "Biblioteca Setorial Árvore do Conhecimento - In...        0.04  \n",
            "Biblioteca Setorial do Núcleo de Ensino Superio...        0.03  \n"
          ]
        }
      ]
    },
    {
      "cell_type": "markdown",
      "source": [
        "* Como se distribuem os empréstimos de exemplares pelos tipos\n",
        "de vínculo dos usuários?\n",
        "* Quais coleções são mais emprestadas?\n",
        "* Quais são as bibliotecas com mais ou menos quantidade de empréstimos?"
      ],
      "metadata": {
        "id": "RBp77Xl3gdJz"
      }
    },
    {
      "cell_type": "markdown",
      "source": [
        "# Análise exploratória de dados e Boxplot"
      ],
      "metadata": {
        "id": "OJQVFymikkCv"
      }
    },
    {
      "cell_type": "markdown",
      "source": [
        "## Distribuição de empréstimos mensais por ano para aluno de graduação e pós-graduação"
      ],
      "metadata": {
        "id": "V_jeTz9QfuXC"
      }
    },
    {
      "cell_type": "code",
      "source": [
        "colecao_por_tipo_usuario = dataset[['colecao', 'tipo_vinculo_usuario']]\n",
        "colecao_por_tipo_usuario = colecao_por_tipo_usuario[colecao_por_tipo_usuario['colecao'] != 'unknown']\n",
        "\n",
        "colecoes = list(colecao_por_tipo_usuario['colecao'].unique())\n",
        "\n",
        "colecao_por_tipo_usuario = colecao_por_tipo_usuario[colecao_por_tipo_usuario['tipo_vinculo_usuario'].isin(['ALUNO DE GRADUAÇÃO', 'ALUNO DE PÓS-GRADUAÇÃO'])]"
      ],
      "metadata": {
        "id": "rS38AGtMkm0d"
      },
      "execution_count": 39,
      "outputs": []
    },
    {
      "cell_type": "code",
      "source": [
        "colecao_por_tipo_usuario = colecao_por_tipo_usuario.groupby('tipo_vinculo_usuario')\n",
        "colecao_por_tipo_usuario = pd.DataFrame(colecao_por_tipo_usuario.value_counts())"
      ],
      "metadata": {
        "id": "CBKh9Z-0lipN"
      },
      "execution_count": 40,
      "outputs": []
    },
    {
      "cell_type": "code",
      "source": [
        "colecao_por_tipo_usuario.columns = ['quantidade_emprestimos']"
      ],
      "metadata": {
        "id": "XI1s_19ObheE"
      },
      "execution_count": 41,
      "outputs": []
    },
    {
      "cell_type": "code",
      "source": [
        "tabela_colecao = colecao_por_tipo_usuario.loc['ALUNO DE GRADUAÇÃO']"
      ],
      "metadata": {
        "id": "fPhEEH0RbtAe"
      },
      "execution_count": 42,
      "outputs": []
    },
    {
      "cell_type": "code",
      "source": [
        "tabela_colecao.sort_values(by='quantidade_emprestimos',ascending=False)\n"
      ],
      "metadata": {
        "colab": {
          "base_uri": "https://localhost:8080/",
          "height": 582
        },
        "id": "ty5SizmfcJoE",
        "outputId": "7c859a2e-f9a9-4883-f3b2-a0642b075f4c"
      },
      "execution_count": 43,
      "outputs": [
        {
          "output_type": "execute_result",
          "data": {
            "text/plain": [
              "                                       quantidade_emprestimos\n",
              "colecao                                                      \n",
              "Acervo Circulante                                     1600155\n",
              "Multimeios                                               4652\n",
              "Monografias                                              3572\n",
              "Dissertações                                             1152\n",
              "Obras de Referência                                      1047\n",
              "Publicações de Autores do RN                              595\n",
              "Publicações da UFRN                                       466\n",
              "Teses                                                     245\n",
              "Folhetos                                                  180\n",
              "Trabalho Acadêmico                                         81\n",
              "Necessidades Educacionais Específicas                      73\n",
              "Eventos                                                    57\n",
              "Coleção Mossoroense                                        17\n",
              "Coleção Zila Mamede                                        15\n",
              "Literatura de Cordel                                       11\n",
              "Obras Raras                                                 6"
            ],
            "text/html": [
              "\n",
              "  <div id=\"df-1efe7c99-3c55-4bc1-892e-8f98411d1393\" class=\"colab-df-container\">\n",
              "    <div>\n",
              "<style scoped>\n",
              "    .dataframe tbody tr th:only-of-type {\n",
              "        vertical-align: middle;\n",
              "    }\n",
              "\n",
              "    .dataframe tbody tr th {\n",
              "        vertical-align: top;\n",
              "    }\n",
              "\n",
              "    .dataframe thead th {\n",
              "        text-align: right;\n",
              "    }\n",
              "</style>\n",
              "<table border=\"1\" class=\"dataframe\">\n",
              "  <thead>\n",
              "    <tr style=\"text-align: right;\">\n",
              "      <th></th>\n",
              "      <th>quantidade_emprestimos</th>\n",
              "    </tr>\n",
              "    <tr>\n",
              "      <th>colecao</th>\n",
              "      <th></th>\n",
              "    </tr>\n",
              "  </thead>\n",
              "  <tbody>\n",
              "    <tr>\n",
              "      <th>Acervo Circulante</th>\n",
              "      <td>1600155</td>\n",
              "    </tr>\n",
              "    <tr>\n",
              "      <th>Multimeios</th>\n",
              "      <td>4652</td>\n",
              "    </tr>\n",
              "    <tr>\n",
              "      <th>Monografias</th>\n",
              "      <td>3572</td>\n",
              "    </tr>\n",
              "    <tr>\n",
              "      <th>Dissertações</th>\n",
              "      <td>1152</td>\n",
              "    </tr>\n",
              "    <tr>\n",
              "      <th>Obras de Referência</th>\n",
              "      <td>1047</td>\n",
              "    </tr>\n",
              "    <tr>\n",
              "      <th>Publicações de Autores do RN</th>\n",
              "      <td>595</td>\n",
              "    </tr>\n",
              "    <tr>\n",
              "      <th>Publicações da UFRN</th>\n",
              "      <td>466</td>\n",
              "    </tr>\n",
              "    <tr>\n",
              "      <th>Teses</th>\n",
              "      <td>245</td>\n",
              "    </tr>\n",
              "    <tr>\n",
              "      <th>Folhetos</th>\n",
              "      <td>180</td>\n",
              "    </tr>\n",
              "    <tr>\n",
              "      <th>Trabalho Acadêmico</th>\n",
              "      <td>81</td>\n",
              "    </tr>\n",
              "    <tr>\n",
              "      <th>Necessidades Educacionais Específicas</th>\n",
              "      <td>73</td>\n",
              "    </tr>\n",
              "    <tr>\n",
              "      <th>Eventos</th>\n",
              "      <td>57</td>\n",
              "    </tr>\n",
              "    <tr>\n",
              "      <th>Coleção Mossoroense</th>\n",
              "      <td>17</td>\n",
              "    </tr>\n",
              "    <tr>\n",
              "      <th>Coleção Zila Mamede</th>\n",
              "      <td>15</td>\n",
              "    </tr>\n",
              "    <tr>\n",
              "      <th>Literatura de Cordel</th>\n",
              "      <td>11</td>\n",
              "    </tr>\n",
              "    <tr>\n",
              "      <th>Obras Raras</th>\n",
              "      <td>6</td>\n",
              "    </tr>\n",
              "  </tbody>\n",
              "</table>\n",
              "</div>\n",
              "    <div class=\"colab-df-buttons\">\n",
              "\n",
              "  <div class=\"colab-df-container\">\n",
              "    <button class=\"colab-df-convert\" onclick=\"convertToInteractive('df-1efe7c99-3c55-4bc1-892e-8f98411d1393')\"\n",
              "            title=\"Convert this dataframe to an interactive table.\"\n",
              "            style=\"display:none;\">\n",
              "\n",
              "  <svg xmlns=\"http://www.w3.org/2000/svg\" height=\"24px\" viewBox=\"0 -960 960 960\">\n",
              "    <path d=\"M120-120v-720h720v720H120Zm60-500h600v-160H180v160Zm220 220h160v-160H400v160Zm0 220h160v-160H400v160ZM180-400h160v-160H180v160Zm440 0h160v-160H620v160ZM180-180h160v-160H180v160Zm440 0h160v-160H620v160Z\"/>\n",
              "  </svg>\n",
              "    </button>\n",
              "\n",
              "  <style>\n",
              "    .colab-df-container {\n",
              "      display:flex;\n",
              "      gap: 12px;\n",
              "    }\n",
              "\n",
              "    .colab-df-convert {\n",
              "      background-color: #E8F0FE;\n",
              "      border: none;\n",
              "      border-radius: 50%;\n",
              "      cursor: pointer;\n",
              "      display: none;\n",
              "      fill: #1967D2;\n",
              "      height: 32px;\n",
              "      padding: 0 0 0 0;\n",
              "      width: 32px;\n",
              "    }\n",
              "\n",
              "    .colab-df-convert:hover {\n",
              "      background-color: #E2EBFA;\n",
              "      box-shadow: 0px 1px 2px rgba(60, 64, 67, 0.3), 0px 1px 3px 1px rgba(60, 64, 67, 0.15);\n",
              "      fill: #174EA6;\n",
              "    }\n",
              "\n",
              "    .colab-df-buttons div {\n",
              "      margin-bottom: 4px;\n",
              "    }\n",
              "\n",
              "    [theme=dark] .colab-df-convert {\n",
              "      background-color: #3B4455;\n",
              "      fill: #D2E3FC;\n",
              "    }\n",
              "\n",
              "    [theme=dark] .colab-df-convert:hover {\n",
              "      background-color: #434B5C;\n",
              "      box-shadow: 0px 1px 3px 1px rgba(0, 0, 0, 0.15);\n",
              "      filter: drop-shadow(0px 1px 2px rgba(0, 0, 0, 0.3));\n",
              "      fill: #FFFFFF;\n",
              "    }\n",
              "  </style>\n",
              "\n",
              "    <script>\n",
              "      const buttonEl =\n",
              "        document.querySelector('#df-1efe7c99-3c55-4bc1-892e-8f98411d1393 button.colab-df-convert');\n",
              "      buttonEl.style.display =\n",
              "        google.colab.kernel.accessAllowed ? 'block' : 'none';\n",
              "\n",
              "      async function convertToInteractive(key) {\n",
              "        const element = document.querySelector('#df-1efe7c99-3c55-4bc1-892e-8f98411d1393');\n",
              "        const dataTable =\n",
              "          await google.colab.kernel.invokeFunction('convertToInteractive',\n",
              "                                                    [key], {});\n",
              "        if (!dataTable) return;\n",
              "\n",
              "        const docLinkHtml = 'Like what you see? Visit the ' +\n",
              "          '<a target=\"_blank\" href=https://colab.research.google.com/notebooks/data_table.ipynb>data table notebook</a>'\n",
              "          + ' to learn more about interactive tables.';\n",
              "        element.innerHTML = '';\n",
              "        dataTable['output_type'] = 'display_data';\n",
              "        await google.colab.output.renderOutput(dataTable, element);\n",
              "        const docLink = document.createElement('div');\n",
              "        docLink.innerHTML = docLinkHtml;\n",
              "        element.appendChild(docLink);\n",
              "      }\n",
              "    </script>\n",
              "  </div>\n",
              "\n",
              "\n",
              "<div id=\"df-9bb857ef-6a1e-4487-99b7-0669eab9cbbe\">\n",
              "  <button class=\"colab-df-quickchart\" onclick=\"quickchart('df-9bb857ef-6a1e-4487-99b7-0669eab9cbbe')\"\n",
              "            title=\"Suggest charts\"\n",
              "            style=\"display:none;\">\n",
              "\n",
              "<svg xmlns=\"http://www.w3.org/2000/svg\" height=\"24px\"viewBox=\"0 0 24 24\"\n",
              "     width=\"24px\">\n",
              "    <g>\n",
              "        <path d=\"M19 3H5c-1.1 0-2 .9-2 2v14c0 1.1.9 2 2 2h14c1.1 0 2-.9 2-2V5c0-1.1-.9-2-2-2zM9 17H7v-7h2v7zm4 0h-2V7h2v10zm4 0h-2v-4h2v4z\"/>\n",
              "    </g>\n",
              "</svg>\n",
              "  </button>\n",
              "\n",
              "<style>\n",
              "  .colab-df-quickchart {\n",
              "      --bg-color: #E8F0FE;\n",
              "      --fill-color: #1967D2;\n",
              "      --hover-bg-color: #E2EBFA;\n",
              "      --hover-fill-color: #174EA6;\n",
              "      --disabled-fill-color: #AAA;\n",
              "      --disabled-bg-color: #DDD;\n",
              "  }\n",
              "\n",
              "  [theme=dark] .colab-df-quickchart {\n",
              "      --bg-color: #3B4455;\n",
              "      --fill-color: #D2E3FC;\n",
              "      --hover-bg-color: #434B5C;\n",
              "      --hover-fill-color: #FFFFFF;\n",
              "      --disabled-bg-color: #3B4455;\n",
              "      --disabled-fill-color: #666;\n",
              "  }\n",
              "\n",
              "  .colab-df-quickchart {\n",
              "    background-color: var(--bg-color);\n",
              "    border: none;\n",
              "    border-radius: 50%;\n",
              "    cursor: pointer;\n",
              "    display: none;\n",
              "    fill: var(--fill-color);\n",
              "    height: 32px;\n",
              "    padding: 0;\n",
              "    width: 32px;\n",
              "  }\n",
              "\n",
              "  .colab-df-quickchart:hover {\n",
              "    background-color: var(--hover-bg-color);\n",
              "    box-shadow: 0 1px 2px rgba(60, 64, 67, 0.3), 0 1px 3px 1px rgba(60, 64, 67, 0.15);\n",
              "    fill: var(--button-hover-fill-color);\n",
              "  }\n",
              "\n",
              "  .colab-df-quickchart-complete:disabled,\n",
              "  .colab-df-quickchart-complete:disabled:hover {\n",
              "    background-color: var(--disabled-bg-color);\n",
              "    fill: var(--disabled-fill-color);\n",
              "    box-shadow: none;\n",
              "  }\n",
              "\n",
              "  .colab-df-spinner {\n",
              "    border: 2px solid var(--fill-color);\n",
              "    border-color: transparent;\n",
              "    border-bottom-color: var(--fill-color);\n",
              "    animation:\n",
              "      spin 1s steps(1) infinite;\n",
              "  }\n",
              "\n",
              "  @keyframes spin {\n",
              "    0% {\n",
              "      border-color: transparent;\n",
              "      border-bottom-color: var(--fill-color);\n",
              "      border-left-color: var(--fill-color);\n",
              "    }\n",
              "    20% {\n",
              "      border-color: transparent;\n",
              "      border-left-color: var(--fill-color);\n",
              "      border-top-color: var(--fill-color);\n",
              "    }\n",
              "    30% {\n",
              "      border-color: transparent;\n",
              "      border-left-color: var(--fill-color);\n",
              "      border-top-color: var(--fill-color);\n",
              "      border-right-color: var(--fill-color);\n",
              "    }\n",
              "    40% {\n",
              "      border-color: transparent;\n",
              "      border-right-color: var(--fill-color);\n",
              "      border-top-color: var(--fill-color);\n",
              "    }\n",
              "    60% {\n",
              "      border-color: transparent;\n",
              "      border-right-color: var(--fill-color);\n",
              "    }\n",
              "    80% {\n",
              "      border-color: transparent;\n",
              "      border-right-color: var(--fill-color);\n",
              "      border-bottom-color: var(--fill-color);\n",
              "    }\n",
              "    90% {\n",
              "      border-color: transparent;\n",
              "      border-bottom-color: var(--fill-color);\n",
              "    }\n",
              "  }\n",
              "</style>\n",
              "\n",
              "  <script>\n",
              "    async function quickchart(key) {\n",
              "      const quickchartButtonEl =\n",
              "        document.querySelector('#' + key + ' button');\n",
              "      quickchartButtonEl.disabled = true;  // To prevent multiple clicks.\n",
              "      quickchartButtonEl.classList.add('colab-df-spinner');\n",
              "      try {\n",
              "        const charts = await google.colab.kernel.invokeFunction(\n",
              "            'suggestCharts', [key], {});\n",
              "      } catch (error) {\n",
              "        console.error('Error during call to suggestCharts:', error);\n",
              "      }\n",
              "      quickchartButtonEl.classList.remove('colab-df-spinner');\n",
              "      quickchartButtonEl.classList.add('colab-df-quickchart-complete');\n",
              "    }\n",
              "    (() => {\n",
              "      let quickchartButtonEl =\n",
              "        document.querySelector('#df-9bb857ef-6a1e-4487-99b7-0669eab9cbbe button');\n",
              "      quickchartButtonEl.style.display =\n",
              "        google.colab.kernel.accessAllowed ? 'block' : 'none';\n",
              "    })();\n",
              "  </script>\n",
              "</div>\n",
              "\n",
              "    </div>\n",
              "  </div>\n"
            ],
            "application/vnd.google.colaboratory.intrinsic+json": {
              "type": "dataframe",
              "summary": "{\n  \"name\": \"tabela_colecao\",\n  \"rows\": 16,\n  \"fields\": [\n    {\n      \"column\": \"colecao\",\n      \"properties\": {\n        \"dtype\": \"string\",\n        \"num_unique_values\": 16,\n        \"samples\": [\n          \"Acervo Circulante\",\n          \"Multimeios\",\n          \"Publica\\u00e7\\u00f5es de Autores do RN\"\n        ],\n        \"semantic_type\": \"\",\n        \"description\": \"\"\n      }\n    },\n    {\n      \"column\": \"quantidade_emprestimos\",\n      \"properties\": {\n        \"dtype\": \"number\",\n        \"std\": 399838,\n        \"min\": 6,\n        \"max\": 1600155,\n        \"num_unique_values\": 16,\n        \"samples\": [\n          1600155,\n          4652,\n          595\n        ],\n        \"semantic_type\": \"\",\n        \"description\": \"\"\n      }\n    }\n  ]\n}"
            }
          },
          "metadata": {},
          "execution_count": 43
        }
      ]
    },
    {
      "cell_type": "code",
      "source": [
        "tabela_colecao = colecao_por_tipo_usuario.loc['ALUNO DE PÓS-GRADUAÇÃO']\n",
        "tabela_colecao.sort_values(by='quantidade_emprestimos',ascending=False)"
      ],
      "metadata": {
        "colab": {
          "base_uri": "https://localhost:8080/",
          "height": 551
        },
        "id": "WcKlNEFCe8gK",
        "outputId": "c7990ca9-316f-4354-8ebd-a279e99192da"
      },
      "execution_count": 44,
      "outputs": [
        {
          "output_type": "execute_result",
          "data": {
            "text/plain": [
              "                                       quantidade_emprestimos\n",
              "colecao                                                      \n",
              "Acervo Circulante                                      299201\n",
              "Dissertações                                              934\n",
              "Obras de Referência                                       700\n",
              "Multimeios                                                559\n",
              "Teses                                                     367\n",
              "Monografias                                               278\n",
              "Publicações de Autores do RN                              204\n",
              "Publicações da UFRN                                       121\n",
              "Folhetos                                                   60\n",
              "Necessidades Educacionais Específicas                      30\n",
              "Eventos                                                    26\n",
              "Coleção Mossoroense                                        23\n",
              "Trabalho Acadêmico                                         23\n",
              "Coleção Zila Mamede                                        11\n",
              "Literatura de Cordel                                        4"
            ],
            "text/html": [
              "\n",
              "  <div id=\"df-56efcf86-25a4-4817-bda8-44730ad8bbd1\" class=\"colab-df-container\">\n",
              "    <div>\n",
              "<style scoped>\n",
              "    .dataframe tbody tr th:only-of-type {\n",
              "        vertical-align: middle;\n",
              "    }\n",
              "\n",
              "    .dataframe tbody tr th {\n",
              "        vertical-align: top;\n",
              "    }\n",
              "\n",
              "    .dataframe thead th {\n",
              "        text-align: right;\n",
              "    }\n",
              "</style>\n",
              "<table border=\"1\" class=\"dataframe\">\n",
              "  <thead>\n",
              "    <tr style=\"text-align: right;\">\n",
              "      <th></th>\n",
              "      <th>quantidade_emprestimos</th>\n",
              "    </tr>\n",
              "    <tr>\n",
              "      <th>colecao</th>\n",
              "      <th></th>\n",
              "    </tr>\n",
              "  </thead>\n",
              "  <tbody>\n",
              "    <tr>\n",
              "      <th>Acervo Circulante</th>\n",
              "      <td>299201</td>\n",
              "    </tr>\n",
              "    <tr>\n",
              "      <th>Dissertações</th>\n",
              "      <td>934</td>\n",
              "    </tr>\n",
              "    <tr>\n",
              "      <th>Obras de Referência</th>\n",
              "      <td>700</td>\n",
              "    </tr>\n",
              "    <tr>\n",
              "      <th>Multimeios</th>\n",
              "      <td>559</td>\n",
              "    </tr>\n",
              "    <tr>\n",
              "      <th>Teses</th>\n",
              "      <td>367</td>\n",
              "    </tr>\n",
              "    <tr>\n",
              "      <th>Monografias</th>\n",
              "      <td>278</td>\n",
              "    </tr>\n",
              "    <tr>\n",
              "      <th>Publicações de Autores do RN</th>\n",
              "      <td>204</td>\n",
              "    </tr>\n",
              "    <tr>\n",
              "      <th>Publicações da UFRN</th>\n",
              "      <td>121</td>\n",
              "    </tr>\n",
              "    <tr>\n",
              "      <th>Folhetos</th>\n",
              "      <td>60</td>\n",
              "    </tr>\n",
              "    <tr>\n",
              "      <th>Necessidades Educacionais Específicas</th>\n",
              "      <td>30</td>\n",
              "    </tr>\n",
              "    <tr>\n",
              "      <th>Eventos</th>\n",
              "      <td>26</td>\n",
              "    </tr>\n",
              "    <tr>\n",
              "      <th>Coleção Mossoroense</th>\n",
              "      <td>23</td>\n",
              "    </tr>\n",
              "    <tr>\n",
              "      <th>Trabalho Acadêmico</th>\n",
              "      <td>23</td>\n",
              "    </tr>\n",
              "    <tr>\n",
              "      <th>Coleção Zila Mamede</th>\n",
              "      <td>11</td>\n",
              "    </tr>\n",
              "    <tr>\n",
              "      <th>Literatura de Cordel</th>\n",
              "      <td>4</td>\n",
              "    </tr>\n",
              "  </tbody>\n",
              "</table>\n",
              "</div>\n",
              "    <div class=\"colab-df-buttons\">\n",
              "\n",
              "  <div class=\"colab-df-container\">\n",
              "    <button class=\"colab-df-convert\" onclick=\"convertToInteractive('df-56efcf86-25a4-4817-bda8-44730ad8bbd1')\"\n",
              "            title=\"Convert this dataframe to an interactive table.\"\n",
              "            style=\"display:none;\">\n",
              "\n",
              "  <svg xmlns=\"http://www.w3.org/2000/svg\" height=\"24px\" viewBox=\"0 -960 960 960\">\n",
              "    <path d=\"M120-120v-720h720v720H120Zm60-500h600v-160H180v160Zm220 220h160v-160H400v160Zm0 220h160v-160H400v160ZM180-400h160v-160H180v160Zm440 0h160v-160H620v160ZM180-180h160v-160H180v160Zm440 0h160v-160H620v160Z\"/>\n",
              "  </svg>\n",
              "    </button>\n",
              "\n",
              "  <style>\n",
              "    .colab-df-container {\n",
              "      display:flex;\n",
              "      gap: 12px;\n",
              "    }\n",
              "\n",
              "    .colab-df-convert {\n",
              "      background-color: #E8F0FE;\n",
              "      border: none;\n",
              "      border-radius: 50%;\n",
              "      cursor: pointer;\n",
              "      display: none;\n",
              "      fill: #1967D2;\n",
              "      height: 32px;\n",
              "      padding: 0 0 0 0;\n",
              "      width: 32px;\n",
              "    }\n",
              "\n",
              "    .colab-df-convert:hover {\n",
              "      background-color: #E2EBFA;\n",
              "      box-shadow: 0px 1px 2px rgba(60, 64, 67, 0.3), 0px 1px 3px 1px rgba(60, 64, 67, 0.15);\n",
              "      fill: #174EA6;\n",
              "    }\n",
              "\n",
              "    .colab-df-buttons div {\n",
              "      margin-bottom: 4px;\n",
              "    }\n",
              "\n",
              "    [theme=dark] .colab-df-convert {\n",
              "      background-color: #3B4455;\n",
              "      fill: #D2E3FC;\n",
              "    }\n",
              "\n",
              "    [theme=dark] .colab-df-convert:hover {\n",
              "      background-color: #434B5C;\n",
              "      box-shadow: 0px 1px 3px 1px rgba(0, 0, 0, 0.15);\n",
              "      filter: drop-shadow(0px 1px 2px rgba(0, 0, 0, 0.3));\n",
              "      fill: #FFFFFF;\n",
              "    }\n",
              "  </style>\n",
              "\n",
              "    <script>\n",
              "      const buttonEl =\n",
              "        document.querySelector('#df-56efcf86-25a4-4817-bda8-44730ad8bbd1 button.colab-df-convert');\n",
              "      buttonEl.style.display =\n",
              "        google.colab.kernel.accessAllowed ? 'block' : 'none';\n",
              "\n",
              "      async function convertToInteractive(key) {\n",
              "        const element = document.querySelector('#df-56efcf86-25a4-4817-bda8-44730ad8bbd1');\n",
              "        const dataTable =\n",
              "          await google.colab.kernel.invokeFunction('convertToInteractive',\n",
              "                                                    [key], {});\n",
              "        if (!dataTable) return;\n",
              "\n",
              "        const docLinkHtml = 'Like what you see? Visit the ' +\n",
              "          '<a target=\"_blank\" href=https://colab.research.google.com/notebooks/data_table.ipynb>data table notebook</a>'\n",
              "          + ' to learn more about interactive tables.';\n",
              "        element.innerHTML = '';\n",
              "        dataTable['output_type'] = 'display_data';\n",
              "        await google.colab.output.renderOutput(dataTable, element);\n",
              "        const docLink = document.createElement('div');\n",
              "        docLink.innerHTML = docLinkHtml;\n",
              "        element.appendChild(docLink);\n",
              "      }\n",
              "    </script>\n",
              "  </div>\n",
              "\n",
              "\n",
              "<div id=\"df-5155fbb0-da6f-4ba6-93a3-30e070feb332\">\n",
              "  <button class=\"colab-df-quickchart\" onclick=\"quickchart('df-5155fbb0-da6f-4ba6-93a3-30e070feb332')\"\n",
              "            title=\"Suggest charts\"\n",
              "            style=\"display:none;\">\n",
              "\n",
              "<svg xmlns=\"http://www.w3.org/2000/svg\" height=\"24px\"viewBox=\"0 0 24 24\"\n",
              "     width=\"24px\">\n",
              "    <g>\n",
              "        <path d=\"M19 3H5c-1.1 0-2 .9-2 2v14c0 1.1.9 2 2 2h14c1.1 0 2-.9 2-2V5c0-1.1-.9-2-2-2zM9 17H7v-7h2v7zm4 0h-2V7h2v10zm4 0h-2v-4h2v4z\"/>\n",
              "    </g>\n",
              "</svg>\n",
              "  </button>\n",
              "\n",
              "<style>\n",
              "  .colab-df-quickchart {\n",
              "      --bg-color: #E8F0FE;\n",
              "      --fill-color: #1967D2;\n",
              "      --hover-bg-color: #E2EBFA;\n",
              "      --hover-fill-color: #174EA6;\n",
              "      --disabled-fill-color: #AAA;\n",
              "      --disabled-bg-color: #DDD;\n",
              "  }\n",
              "\n",
              "  [theme=dark] .colab-df-quickchart {\n",
              "      --bg-color: #3B4455;\n",
              "      --fill-color: #D2E3FC;\n",
              "      --hover-bg-color: #434B5C;\n",
              "      --hover-fill-color: #FFFFFF;\n",
              "      --disabled-bg-color: #3B4455;\n",
              "      --disabled-fill-color: #666;\n",
              "  }\n",
              "\n",
              "  .colab-df-quickchart {\n",
              "    background-color: var(--bg-color);\n",
              "    border: none;\n",
              "    border-radius: 50%;\n",
              "    cursor: pointer;\n",
              "    display: none;\n",
              "    fill: var(--fill-color);\n",
              "    height: 32px;\n",
              "    padding: 0;\n",
              "    width: 32px;\n",
              "  }\n",
              "\n",
              "  .colab-df-quickchart:hover {\n",
              "    background-color: var(--hover-bg-color);\n",
              "    box-shadow: 0 1px 2px rgba(60, 64, 67, 0.3), 0 1px 3px 1px rgba(60, 64, 67, 0.15);\n",
              "    fill: var(--button-hover-fill-color);\n",
              "  }\n",
              "\n",
              "  .colab-df-quickchart-complete:disabled,\n",
              "  .colab-df-quickchart-complete:disabled:hover {\n",
              "    background-color: var(--disabled-bg-color);\n",
              "    fill: var(--disabled-fill-color);\n",
              "    box-shadow: none;\n",
              "  }\n",
              "\n",
              "  .colab-df-spinner {\n",
              "    border: 2px solid var(--fill-color);\n",
              "    border-color: transparent;\n",
              "    border-bottom-color: var(--fill-color);\n",
              "    animation:\n",
              "      spin 1s steps(1) infinite;\n",
              "  }\n",
              "\n",
              "  @keyframes spin {\n",
              "    0% {\n",
              "      border-color: transparent;\n",
              "      border-bottom-color: var(--fill-color);\n",
              "      border-left-color: var(--fill-color);\n",
              "    }\n",
              "    20% {\n",
              "      border-color: transparent;\n",
              "      border-left-color: var(--fill-color);\n",
              "      border-top-color: var(--fill-color);\n",
              "    }\n",
              "    30% {\n",
              "      border-color: transparent;\n",
              "      border-left-color: var(--fill-color);\n",
              "      border-top-color: var(--fill-color);\n",
              "      border-right-color: var(--fill-color);\n",
              "    }\n",
              "    40% {\n",
              "      border-color: transparent;\n",
              "      border-right-color: var(--fill-color);\n",
              "      border-top-color: var(--fill-color);\n",
              "    }\n",
              "    60% {\n",
              "      border-color: transparent;\n",
              "      border-right-color: var(--fill-color);\n",
              "    }\n",
              "    80% {\n",
              "      border-color: transparent;\n",
              "      border-right-color: var(--fill-color);\n",
              "      border-bottom-color: var(--fill-color);\n",
              "    }\n",
              "    90% {\n",
              "      border-color: transparent;\n",
              "      border-bottom-color: var(--fill-color);\n",
              "    }\n",
              "  }\n",
              "</style>\n",
              "\n",
              "  <script>\n",
              "    async function quickchart(key) {\n",
              "      const quickchartButtonEl =\n",
              "        document.querySelector('#' + key + ' button');\n",
              "      quickchartButtonEl.disabled = true;  // To prevent multiple clicks.\n",
              "      quickchartButtonEl.classList.add('colab-df-spinner');\n",
              "      try {\n",
              "        const charts = await google.colab.kernel.invokeFunction(\n",
              "            'suggestCharts', [key], {});\n",
              "      } catch (error) {\n",
              "        console.error('Error during call to suggestCharts:', error);\n",
              "      }\n",
              "      quickchartButtonEl.classList.remove('colab-df-spinner');\n",
              "      quickchartButtonEl.classList.add('colab-df-quickchart-complete');\n",
              "    }\n",
              "    (() => {\n",
              "      let quickchartButtonEl =\n",
              "        document.querySelector('#df-5155fbb0-da6f-4ba6-93a3-30e070feb332 button');\n",
              "      quickchartButtonEl.style.display =\n",
              "        google.colab.kernel.accessAllowed ? 'block' : 'none';\n",
              "    })();\n",
              "  </script>\n",
              "</div>\n",
              "\n",
              "    </div>\n",
              "  </div>\n"
            ],
            "application/vnd.google.colaboratory.intrinsic+json": {
              "type": "dataframe",
              "summary": "{\n  \"name\": \"tabela_colecao\",\n  \"rows\": 15,\n  \"fields\": [\n    {\n      \"column\": \"colecao\",\n      \"properties\": {\n        \"dtype\": \"string\",\n        \"num_unique_values\": 15,\n        \"samples\": [\n          \"Necessidades Educacionais Espec\\u00edficas\",\n          \"Cole\\u00e7\\u00e3o Mossoroense\",\n          \"Acervo Circulante\"\n        ],\n        \"semantic_type\": \"\",\n        \"description\": \"\"\n      }\n    },\n    {\n      \"column\": \"quantidade_emprestimos\",\n      \"properties\": {\n        \"dtype\": \"number\",\n        \"std\": 77192,\n        \"min\": 4,\n        \"max\": 299201,\n        \"num_unique_values\": 14,\n        \"samples\": [\n          30,\n          23,\n          299201\n        ],\n        \"semantic_type\": \"\",\n        \"description\": \"\"\n      }\n    }\n  ]\n}"
            }
          },
          "metadata": {},
          "execution_count": 44
        }
      ]
    },
    {
      "cell_type": "markdown",
      "source": [
        "A coleção com maior número de empréstimos é a Acervo Circulante, tanto para alunos de graduação quanto para alunos de pós-graduação."
      ],
      "metadata": {
        "id": "jS0igvV7gOcS"
      }
    },
    {
      "cell_type": "code",
      "source": [
        "emprestimos_por_mes = dataset[['id_emprestimo', 'data_emprestimo', 'colecao', 'tipo_vinculo_usuario']]\n",
        "emprestimos_por_mes = emprestimos_por_mes[emprestimos_por_mes['colecao'] == 'Acervo Circulante']\n",
        "emprestimos_por_mes = emprestimos_por_mes[emprestimos_por_mes['data_emprestimo'] != 'unknown']\n",
        "emprestimos_por_mes = emprestimos_por_mes[emprestimos_por_mes['tipo_vinculo_usuario'].isin(['ALUNO DE GRADUAÇÃO', 'ALUNO DE PÓS-GRADUAÇÃO'])]\n",
        "emprestimos_por_mes = emprestimos_por_mes.drop(columns=['colecao']) #Coleção Acervo Circulante"
      ],
      "metadata": {
        "id": "fdy7PEacjBFZ"
      },
      "execution_count": 45,
      "outputs": []
    },
    {
      "cell_type": "code",
      "source": [
        "emprestimos_por_mes_grad = emprestimos_por_mes[emprestimos_por_mes['tipo_vinculo_usuario'] == 'ALUNO DE GRADUAÇÃO']\n",
        "# emprestimos_por_mes_pos = emprestimos_por_mes[emprestimos_por_mes['tipo_vinculo_usuario'] == 'ALUNO DE PÓS-GRADUAÇÃO']\n",
        "\n",
        "ano_emprestimo = emprestimos_por_mes_grad.loc[:,('data_emprestimo')].dt.year.to_list()\n",
        "mes_emprestimo = emprestimos_por_mes_grad.loc[:,('data_emprestimo')].dt.month.to_list()\n",
        "\n",
        "emprestimos_por_mes_grad.insert(2,column='ano_emprestimo', value=ano_emprestimo)\n",
        "emprestimos_por_mes_grad.insert(2,column='mes_emprestimo', value=mes_emprestimo)\n",
        "\n",
        "\n",
        "emprestimos_por_mes_grad.index = emprestimos_por_mes_grad['id_emprestimo']\n",
        "emprestimos_por_mes_grad = emprestimos_por_mes_grad.drop(columns=['id_emprestimo', 'data_emprestimo', 'tipo_vinculo_usuario'])"
      ],
      "metadata": {
        "id": "mGXJnHv2wi1d"
      },
      "execution_count": 46,
      "outputs": []
    },
    {
      "cell_type": "code",
      "source": [],
      "metadata": {
        "id": "MqlAclCRR9Pp"
      },
      "execution_count": null,
      "outputs": []
    },
    {
      "cell_type": "code",
      "source": [
        "anos = [ano for ano in range(2010, 2021)]\n",
        "tabelas_por_ano = [\n",
        "    emprestimos_por_mes_grad.loc[emprestimos_por_mes_grad['ano_emprestimo'] == ano].value_counts().to_list()\n",
        "    for ano in anos\n",
        "]"
      ],
      "metadata": {
        "id": "W8w0fJPV17mZ"
      },
      "execution_count": 47,
      "outputs": []
    },
    {
      "cell_type": "code",
      "source": [
        "def num_to_mes(num):\n",
        "  match num[0]:\n",
        "    case 1: return 'Janeiro'\n",
        "    case 2: return 'Fevereiro'\n",
        "    case 3: return 'Março'\n",
        "    case 4: return 'Abril'\n",
        "    case 5: return 'Maio'\n",
        "    case 6: return 'Junho'\n",
        "    case 7: return 'Julho'\n",
        "    case 8: return 'Agosto'\n",
        "    case 9: return 'Setembro'\n",
        "    case 10: return 'Outubro'\n",
        "    case 11: return 'Novembro'\n",
        "    case 12: return 'Dezembro'"
      ],
      "metadata": {
        "id": "5vHVAVCRA-_w"
      },
      "execution_count": 48,
      "outputs": []
    },
    {
      "cell_type": "code",
      "source": [
        "for b in bplot:\n",
        "  print(b)"
      ],
      "metadata": {
        "colab": {
          "base_uri": "https://localhost:8080/"
        },
        "id": "u0DBZw6nVcOk",
        "outputId": "d0c57fb6-702e-4089-ba2c-aec08864735b"
      },
      "execution_count": 58,
      "outputs": [
        {
          "output_type": "stream",
          "name": "stdout",
          "text": [
            "whiskers\n",
            "caps\n",
            "boxes\n",
            "medians\n",
            "fliers\n",
            "means\n"
          ]
        }
      ]
    },
    {
      "cell_type": "code",
      "source": [
        "valor_max = 0\n",
        "\n",
        "for tabela in tabelas_por_ano:\n",
        "  if max(tabela) > valor_max:\n",
        "    valor_max = max(tabela)\n",
        "\n",
        "valor_max"
      ],
      "metadata": {
        "colab": {
          "base_uri": "https://localhost:8080/"
        },
        "id": "z6U29ZOHbOgl",
        "outputId": "88cace40-e82e-465c-f003-374531522e52"
      },
      "execution_count": 78,
      "outputs": [
        {
          "output_type": "execute_result",
          "data": {
            "text/plain": [
              "22797"
            ]
          },
          "metadata": {},
          "execution_count": 78
        }
      ]
    },
    {
      "cell_type": "code",
      "source": [
        "y_ticks = [i for i in range(0, valor_max+1, 5000)]\n",
        "y_ticks"
      ],
      "metadata": {
        "colab": {
          "base_uri": "https://localhost:8080/"
        },
        "id": "Gp-84qVhcSty",
        "outputId": "bee7510f-c631-428b-f182-b033316173df"
      },
      "execution_count": 86,
      "outputs": [
        {
          "output_type": "execute_result",
          "data": {
            "text/plain": [
              "[0, 5000, 10000, 15000, 20000]"
            ]
          },
          "metadata": {},
          "execution_count": 86
        }
      ]
    },
    {
      "cell_type": "code",
      "source": [
        "cores = [DARKERPURPLE, PURPLE, GREEN, DARKERGREEN, YELLOW, DARKERPURPLE, PURPLE, GREEN, DARKERGREEN, YELLOW, DARKERPURPLE]\n",
        "\n",
        "fig, ax = plt.subplots()\n",
        "bplot = ax.boxplot(tabelas_por_ano, labels=anos, patch_artist=True)\n",
        "\n",
        "for bpatch, cor in zip(bplot['boxes'], cores):\n",
        "    bpatch.set_facecolor(cor)\n",
        "\n",
        "for media in bplot['medians']:\n",
        "  media.set_color(ORANGE)\n",
        "  media.set_linewidth(1.5)\n",
        "\n",
        "for flier in bplot['fliers']:\n",
        "    plt.setp(bplot[\"fliers\"], markerfacecolor='red')\n",
        "\n",
        "plt.xticks(color=DARKERGREEN, rotation=30, fontweight='bold')\n",
        "plt.xlabel('Anos',fontsize='large', color=DARKERPURPLE, fontweight='bold')\n",
        "\n",
        "plt.ylabel('Quantidade de empréstimos mensais', fontsize='large', color=DARKERPURPLE, fontweight='bold')\n",
        "plt.yticks(y_ticks, color=DARKERGREEN, fontweight='bold')\n",
        "\n",
        "plt.suptitle('Distribuição de empréstimos mensais por ano da Coleção Acervo Circulante', fontsize='x-large', fontweight='bold', color=DARKERPURPLE)\n",
        "plt.title('Entre 2010 e 2020', style='italic', fontsize='medium')\n",
        "\n",
        "plt.show()"
      ],
      "metadata": {
        "colab": {
          "base_uri": "https://localhost:8080/",
          "height": 519
        },
        "id": "zV3PtyEdCEgG",
        "outputId": "f4df762f-55c3-428e-e053-5fd560030303"
      },
      "execution_count": 114,
      "outputs": [
        {
          "output_type": "display_data",
          "data": {
            "text/plain": [
              "<Figure size 640x480 with 1 Axes>"
            ],
            "image/png": "[encoded data removed]"
          },
          "metadata": {}
        }
      ]
    }
  ],
  "metadata": {
    "colab": {
      "provenance": [],
      "gpuType": "T4",
      "authorship_tag": "ABX9TyNVORXx5OAmdt/JaLf64oY5",
      "include_colab_link": true
    },
    "kernelspec": {
      "display_name": "Python 3",
      "name": "python3"
    },
    "language_info": {
      "name": "python"
    },
    "accelerator": "GPU"
  },
  "nbformat": 4,
  "nbformat_minor": 0
}